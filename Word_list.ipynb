{
 "cells": [
  {
   "cell_type": "code",
   "execution_count": 3,
   "id": "f252f61d",
   "metadata": {},
   "outputs": [],
   "source": [
    "from string import *\n",
    "from itertools import product\n",
    "value = ascii_letters + digits + punctuation\n",
    "value\n",
    "for i in range(1,4):\n",
    "    for j in product(value,repeat = i):\n",
    "        word = \"\".join(j)\n",
    "        p = open(\"password.txt\",\"a\")\n",
    "        p.write(word)\n",
    "        p.write(\"\\n\")\n",
    "        "
   ]
  },
  {
   "cell_type": "code",
   "execution_count": null,
   "id": "b8006a0c",
   "metadata": {},
   "outputs": [],
   "source": []
  }
 ],
 "metadata": {
  "kernelspec": {
   "display_name": "Python 3 (ipykernel)",
   "language": "python",
   "name": "python3"
  },
  "language_info": {
   "codemirror_mode": {
    "name": "ipython",
    "version": 3
   },
   "file_extension": ".py",
   "mimetype": "text/x-python",
   "name": "python",
   "nbconvert_exporter": "python",
   "pygments_lexer": "ipython3",
   "version": "3.9.12"
  }
 },
 "nbformat": 4,
 "nbformat_minor": 5
}
