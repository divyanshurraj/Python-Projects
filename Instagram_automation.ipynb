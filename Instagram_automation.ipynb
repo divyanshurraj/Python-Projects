{
 "cells": [
  {
   "cell_type": "code",
   "execution_count": null,
   "id": "9e766d99",
   "metadata": {},
   "outputs": [],
   "source": [
    "from instabot import Bot\n",
    "bot=Bot()\n",
    "bot.login(username=\" \",password=\" \") # enter username and password \n",
    "bot.follow('wscubetechindia')# enter the username to follow\n",
    "bot.upload_photo(\" \",caption=\"I Love India\") # enter path of image to upload\n",
    "bot.unfollow(\"username\") # to unfollow\n",
    "bot.sendmessage(\"I love India\",[\"username1\",\"username2\",\"username3\"]) # to send message to miltiple user\n",
    "followers=bot.get_userfollowers(\" \")\n",
    "for follower in followers:\n",
    "    print(bot.get_user_info(follower))\n",
    "following =bot.get_user_following(\"jone_python08\")\n",
    "for following in following:\n",
    "    print(bot.get_user_info(following)) #for showing following accounts\n",
    "\n"
   ]
  },
  {
   "cell_type": "code",
   "execution_count": null,
   "id": "b4646659",
   "metadata": {},
   "outputs": [],
   "source": []
  }
 ],
 "metadata": {
  "kernelspec": {
   "display_name": "Python 3 (ipykernel)",
   "language": "python",
   "name": "python3"
  },
  "language_info": {
   "codemirror_mode": {
    "name": "ipython",
    "version": 3
   },
   "file_extension": ".py",
   "mimetype": "text/x-python",
   "name": "python",
   "nbconvert_exporter": "python",
   "pygments_lexer": "ipython3",
   "version": "3.9.12"
  }
 },
 "nbformat": 4,
 "nbformat_minor": 5
}
