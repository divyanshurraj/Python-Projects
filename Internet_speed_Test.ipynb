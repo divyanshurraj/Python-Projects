{
 "cells": [
  {
   "cell_type": "code",
   "execution_count": 7,
   "id": "0e91076c",
   "metadata": {},
   "outputs": [
    {
     "name": "stderr",
     "output_type": "stream",
     "text": [
      "Exception in Tkinter callback\n",
      "Traceback (most recent call last):\n",
      "  File \"C:\\Users\\INDIAN\\anaconda3\\lib\\tkinter\\__init__.py\", line 1892, in __call__\n",
      "    return self.func(*args)\n",
      "  File \"C:\\Users\\INDIAN\\AppData\\Local\\Temp\\ipykernel_10284\\2213684118.py\", line 6, in speedcheck\n",
      "    sp=speedtest.Speedtest()\n",
      "AttributeError: module 'speedtest' has no attribute 'Speedtest'\n"
     ]
    }
   ],
   "source": [
    "from tkinter import *\n",
    "import speedtest\n",
    "\n",
    "\n",
    "def speedcheck():\n",
    "    sp=speedtest.Speedtest()\n",
    "    sp.get_servers()\n",
    "    down=str(round(sp.download()/(10**6),3))+\"Mbps\"\n",
    "    up=str(round(sp.upload()/(10**6),3))+\"Mbps\"\n",
    "    lab_down.config(text=down)\n",
    "    lab_up.config(text=up)\n",
    "\n",
    "sp=Tk()\n",
    "sp.title(\"Inter Speed Test \")\n",
    "sp.geometry(\"500x650\")\n",
    "sp.config(bg=\"Blue\")\n",
    "\n",
    "lab=Label(sp,text=\"Internet Speed Test\",font=(\"Time new roman\",30,\"bold\"),bg=\"Blue\",fg=\"white\")\n",
    "lab.place(x=60,y=40,height=50,width=380)\n",
    "\n",
    "lab=Label(sp,text=\"Download Speed\",font=(\"Time new roman\",30,\"bold\"))\n",
    "lab.place(x=60,y=130,height=50,width=380)\n",
    "\n",
    "lab_down=Label(sp,text=\"00\",font=(\"Time new roman\",30,\"bold\"))\n",
    "lab_down.place(x=60,y=200,height=50,width=380)\n",
    "\n",
    "\n",
    "lab=Label(sp,text=\"Upload Speed\",font=(\"Time new roman\",30,\"bold\"))\n",
    "lab.place(x=60,y=290,height=50,width=380)\n",
    "\n",
    "lab_up=Label(sp,text=\"00\",font=(\"Time new roman\",30,\"bold\"))\n",
    "lab_up.place(x=60,y=360,height=50,width=380)\n",
    "\n",
    "button =Button(sp,text=\"Check Speed\",font=(\"Time new roman\",30,\"bold\"),relief=RAISED,bg=\"red\",command=speedcheck)\n",
    "button.place(x=60,y=460,height=50,width=380)\n",
    "sp.mainloop()"
   ]
  },
  {
   "cell_type": "code",
   "execution_count": null,
   "id": "c7cd0e16",
   "metadata": {},
   "outputs": [],
   "source": []
  },
  {
   "cell_type": "code",
   "execution_count": null,
   "id": "16a10a4e",
   "metadata": {},
   "outputs": [],
   "source": []
  },
  {
   "cell_type": "code",
   "execution_count": null,
   "id": "5f021c5a",
   "metadata": {},
   "outputs": [],
   "source": []
  }
 ],
 "metadata": {
  "kernelspec": {
   "display_name": "Python 3 (ipykernel)",
   "language": "python",
   "name": "python3"
  },
  "language_info": {
   "codemirror_mode": {
    "name": "ipython",
    "version": 3
   },
   "file_extension": ".py",
   "mimetype": "text/x-python",
   "name": "python",
   "nbconvert_exporter": "python",
   "pygments_lexer": "ipython3",
   "version": "3.9.12"
  }
 },
 "nbformat": 4,
 "nbformat_minor": 5
}
