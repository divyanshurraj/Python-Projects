{
 "cells": [
  {
   "cell_type": "code",
   "execution_count": null,
   "id": "7e626d3f",
   "metadata": {},
   "outputs": [],
   "source": [
    "import datetime\n",
    "import time\n",
    "end_time=dateime.datetime(2023,01,07) #end time \n",
    "site_block=[\"www.instagram.com\",\"www.facebook.com\"] # websites to block\n",
    "host_path=\"C:/Windows/System32/drivers/etc/hosts\"\n",
    "redirect=\"127.0.0.1\"\n",
    "while True:\n",
    "    if datetime.datetime.now()<end_time:\n",
    "        print(\"start Blocking\")\n",
    "        with open(host_path,\"r+\") as host_file:\n",
    "            content =host_file.read()\n",
    "            for website in site_block:\n",
    "                if website not in content:\n",
    "                    host_file.write(redirect+\" \"+website+\"\\n\")\n",
    "                else:\n",
    "                    pass\n",
    "    else:\n",
    "        with open(host_path,\"r+\") as host_file:\n",
    "            content= host_file.readlines()\n",
    "            host_file.seek(0)\n",
    "            for lines in content:\n",
    "                if not any(website in lines for website in site_block):\n",
    "                    host_file.write(lines)\n",
    "            host_file.truncate()\n",
    "        time.sleep(5)"
   ]
  }
 ],
 "metadata": {
  "kernelspec": {
   "display_name": "Python 3 (ipykernel)",
   "language": "python",
   "name": "python3"
  },
  "language_info": {
   "codemirror_mode": {
    "name": "ipython",
    "version": 3
   },
   "file_extension": ".py",
   "mimetype": "text/x-python",
   "name": "python",
   "nbconvert_exporter": "python",
   "pygments_lexer": "ipython3",
   "version": "3.9.12"
  }
 },
 "nbformat": 4,
 "nbformat_minor": 5
}
