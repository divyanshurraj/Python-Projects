{
 "cells": [
  {
   "cell_type": "code",
   "execution_count": 1,
   "id": "3e6c20dc",
   "metadata": {},
   "outputs": [
    {
     "name": "stdout",
     "output_type": "stream",
     "text": [
      "Ready to Test : Yes/No :yes\n",
      "**************Typing speed Calculator**************\n",
      "Welcome to my typing software.\n",
      "\n",
      "\n",
      "Enter : Welcome to my typing software.\n",
      "Speed :  2 WPM\n",
      "Error :  0\n",
      "Ready to Test : Yes/No :no\n",
      "Thank you\n"
     ]
    }
   ],
   "source": [
    "from time import *\n",
    "import random as r\n",
    "\n",
    "def mistake(partest,usertest):\n",
    "    error =0\n",
    "    for i in range(len(partest)):\n",
    "        try:\n",
    "            if partest[i]!=usertest[i]:\n",
    "                error =error+1\n",
    "        except :\n",
    "            error =error+1\n",
    "    return error\n",
    "\n",
    "def speed_time(time_s,time_e,userinput):\n",
    "    time_delay=time_e-time_s\n",
    "    time_R=round(time_delay,2)\n",
    "    speed=len(userinput)/time_R\n",
    "    return round(speed)\n",
    "if __name__=='__main__':\n",
    "    while True:\n",
    "        ck=input(\"Ready to Test : Yes/No :\")\n",
    "        if ck==\"yes\":\n",
    "            test=[\"A paragraph is a self contained unit of disclose in wrinting dealig with a particular pint or idea.\",\"My name is Divyanshu Raj\",\"Welcome to my typing software.\"]\n",
    "            test1=r.choice(test)\n",
    "            print(\"**************Typing speed Calculator**************\")\n",
    "            print(test1)\n",
    "            print()\n",
    "            print()\n",
    "            time_1=time()\n",
    "            testinput=input(\"Enter : \")\n",
    "            time_2=time()\n",
    "\n",
    "            print('Speed : ',speed_time(time_1,time_2,testinput),\"WPM\")\n",
    "            print(\"Error : \",mistake(test1,testinput))\n",
    "        elif ck=='no':\n",
    "            print(\"Thank you\")\n",
    "            break\n",
    "        else:\n",
    "            print(\"Wrong input\")\n"
   ]
  },
  {
   "cell_type": "code",
   "execution_count": null,
   "id": "b7b166b3",
   "metadata": {},
   "outputs": [],
   "source": []
  },
  {
   "cell_type": "code",
   "execution_count": null,
   "id": "4edfbbf4",
   "metadata": {},
   "outputs": [],
   "source": []
  },
  {
   "cell_type": "code",
   "execution_count": null,
   "id": "60d1afcc",
   "metadata": {},
   "outputs": [],
   "source": []
  },
  {
   "cell_type": "code",
   "execution_count": null,
   "id": "32858f4f",
   "metadata": {},
   "outputs": [],
   "source": []
  }
 ],
 "metadata": {
  "kernelspec": {
   "display_name": "Python 3 (ipykernel)",
   "language": "python",
   "name": "python3"
  },
  "language_info": {
   "codemirror_mode": {
    "name": "ipython",
    "version": 3
   },
   "file_extension": ".py",
   "mimetype": "text/x-python",
   "name": "python",
   "nbconvert_exporter": "python",
   "pygments_lexer": "ipython3",
   "version": "3.9.12"
  }
 },
 "nbformat": 4,
 "nbformat_minor": 5
}
