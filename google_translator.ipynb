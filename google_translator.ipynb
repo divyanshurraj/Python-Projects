{
 "cells": [
  {
   "cell_type": "code",
   "execution_count": 1,
   "id": "9f6f5b23",
   "metadata": {},
   "outputs": [
    {
     "name": "stderr",
     "output_type": "stream",
     "text": [
      "Exception in Tkinter callback\n",
      "Traceback (most recent call last):\n",
      "  File \"C:\\Users\\INDIAN\\anaconda3\\lib\\tkinter\\__init__.py\", line 1892, in __call__\n",
      "    return self.func(*args)\n",
      "  File \"C:\\Users\\INDIAN\\AppData\\Local\\Temp\\ipykernel_7292\\4205945251.py\", line 15, in data\n",
      "    textget = change(text = masg, src=s ,dest=d)\n",
      "  File \"C:\\Users\\INDIAN\\AppData\\Local\\Temp\\ipykernel_7292\\4205945251.py\", line 9, in change\n",
      "    trans1 = trans.translate(text,src=src1,dest=dest1)\n",
      "  File \"C:\\Users\\INDIAN\\anaconda3\\lib\\site-packages\\googletrans\\client.py\", line 182, in translate\n",
      "    data = self._translate(text, dest, src, kwargs)\n",
      "  File \"C:\\Users\\INDIAN\\anaconda3\\lib\\site-packages\\googletrans\\client.py\", line 78, in _translate\n",
      "    token = self.token_acquirer.do(text)\n",
      "  File \"C:\\Users\\INDIAN\\anaconda3\\lib\\site-packages\\googletrans\\gtoken.py\", line 194, in do\n",
      "    self._update()\n",
      "  File \"C:\\Users\\INDIAN\\anaconda3\\lib\\site-packages\\googletrans\\gtoken.py\", line 62, in _update\n",
      "    code = self.RE_TKK.search(r.text).group(1).replace('var ', '')\n",
      "AttributeError: 'NoneType' object has no attribute 'group'\n"
     ]
    }
   ],
   "source": [
    "from tkinter import *\n",
    "from tkinter import ttk\n",
    "from googletrans import Translator,LANGUAGES\n",
    "def change(text=\"type\",src=\"English\",dest=\"Hindi\"):\n",
    "    text1=text\n",
    "    src1=src\n",
    "    dest1=dest\n",
    "    trans = Translator()\n",
    "    trans1 = trans.translate(text,src=src1,dest=dest1)\n",
    "    return trans1.txt\n",
    "def data():\n",
    "    s=comb_sor.get()\n",
    "    d=comb_dest.get()\n",
    "    masg = Sor_txt.get(1.0,END)\n",
    "    textget = change(text = masg, src=s ,dest=d)\n",
    "    dest_txt.delete(1.0,END)\n",
    "    dest_txt.insert(END,textget)\n",
    "\n",
    "\n",
    "\n",
    "\n",
    "\n",
    "\n",
    "\n",
    "\n",
    "\n",
    "\n",
    "\n",
    "root = Tk()\n",
    "root.title(\"Translator\")\n",
    "root.geometry(\"500x700\")\n",
    "root.config(bg='Red')\n",
    "\n",
    "lab_txt=Label(root,text=\"Translator\",font=(\"Time New Roman\",40,\"bold\"))\n",
    "lab_txt.place(x=100,y=40,height=50,width=300)\n",
    "\n",
    "frame = Frame(root).pack(side=BOTTOM)\n",
    "\n",
    "lab_txt=Label(root,text=\"Source text\",font=(\"Time New Roman\",20,\"bold\"),fg=\"black\")\n",
    "lab_txt.place(x=100,y=100,height=20,width=300)\n",
    "\n",
    "Sor_txt=Text(frame,font=(\"Time New Roman\",20,\"bold\"),wrap=WORD)\n",
    "Sor_txt.place(x=10,y=130,height=150,width=480)\n",
    "\n",
    "list_text = list(LANGUAGES.values())\n",
    "\n",
    "comb_sor = ttk.Combobox(frame,value=list_text)\n",
    "comb_sor.place(x=10,y=300,height=40,width=150)\n",
    "comb_sor.set(\"english\")\n",
    "\n",
    "button_change = Button(frame,text=\"Translate\",relief=RAISED,command=data)\n",
    "button_change.place(x=170,y=300,height=40,width=150)\n",
    "\n",
    "comb_dest = ttk.Combobox(frame,value=list_text)\n",
    "comb_dest.place(x=330,y=300,height=40,width=150)\n",
    "comb_dest.set(\"english\")\n",
    "\n",
    "\n",
    "lab_txt=Label(root,text=\"Dest Text\",font=(\"Time New Roman\",20,\"bold\"),fg=\"Black\",bg=\"red\")\n",
    "lab_txt.place(x=100,y=360,height=20,width=300)\n",
    "\n",
    "dest_txt=Text(frame,font=(\"Time New Roman\",20,\"bold\"),wrap=WORD)\n",
    "dest_txt.place(x=10,y=400,height=150,width=480)\n",
    "\n",
    "root.mainloop()\n"
   ]
  },
  {
   "cell_type": "code",
   "execution_count": 25,
   "id": "54f6472c",
   "metadata": {},
   "outputs": [],
   "source": []
  },
  {
   "cell_type": "code",
   "execution_count": null,
   "id": "41c760a6",
   "metadata": {},
   "outputs": [],
   "source": []
  }
 ],
 "metadata": {
  "kernelspec": {
   "display_name": "Python 3 (ipykernel)",
   "language": "python",
   "name": "python3"
  },
  "language_info": {
   "codemirror_mode": {
    "name": "ipython",
    "version": 3
   },
   "file_extension": ".py",
   "mimetype": "text/x-python",
   "name": "python",
   "nbconvert_exporter": "python",
   "pygments_lexer": "ipython3",
   "version": "3.9.12"
  }
 },
 "nbformat": 4,
 "nbformat_minor": 5
}
