{
 "cells": [
  {
   "cell_type": "code",
   "execution_count": 2,
   "id": "c994b771",
   "metadata": {},
   "outputs": [],
   "source": [
    "from skpy import Skype\n",
    "slogin = Skype(\"mail id\",\"password\")\n",
    "contact = slogin.contacts[\"live:.cid46466dsf6dsf\"]\n",
    "with open (\"image path\",\"image_name\") as f:\n",
    "    contact.chat.sendfile()\n",
    "\n",
    "\n",
    "\n",
    "group =slogin.chats.create([\"live:.cid.240564adf656df\",\"live:.cid.sdf4dsf6ds4646sd4\"]) # for creating group using id.\n",
    "\n",
    "contact = slogin.contacts[live:cid.2406652365]\n",
    "contact.chat.\n",
    "for i in contact:\n",
    "    print(i)"
   ]
  },
  {
   "cell_type": "code",
   "execution_count": null,
   "id": "56f7f061",
   "metadata": {},
   "outputs": [],
   "source": []
  }
 ],
 "metadata": {
  "kernelspec": {
   "display_name": "Python 3 (ipykernel)",
   "language": "python",
   "name": "python3"
  },
  "language_info": {
   "codemirror_mode": {
    "name": "ipython",
    "version": 3
   },
   "file_extension": ".py",
   "mimetype": "text/x-python",
   "name": "python",
   "nbconvert_exporter": "python",
   "pygments_lexer": "ipython3",
   "version": "3.9.12"
  }
 },
 "nbformat": 4,
 "nbformat_minor": 5
}
