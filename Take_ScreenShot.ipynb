{
 "cells": [
  {
   "cell_type": "code",
   "execution_count": 32,
   "id": "9aa55e15",
   "metadata": {},
   "outputs": [
    {
     "name": "stdout",
     "output_type": "stream",
     "text": [
      "\\test.png\n"
     ]
    }
   ],
   "source": [
    "from tkinter import *\n",
    "import pyautogui\n",
    "def take_ss():\n",
    "            add_data=entry.get()\n",
    "            path = add_data+\"\\\\test.png\"\n",
    "            print(path)\n",
    "            ss = pyautogui.screenshot()\n",
    "            ss.save(\"test1.png\")\n",
    "\n",
    "win = Tk()\n",
    "win.title(\"SCREENSHOT\")\n",
    "win.geometry(\"700x400\")\n",
    "win.config(bg = \"yellow\")\n",
    "win.resizable(False,False)\n",
    "\n",
    "entry = Entry(win,font=('Time New Roman',30))\n",
    "entry.place(x=100,height=70,width=400,y=30)\n",
    "\n",
    "button = Button(win,text=\"Done\",font=('Time New Roman',20),command=take_ss)\n",
    "button.place(x=312,y=150,height=40,width=75)\n",
    "\n",
    "win.mainloop()\n",
    "\n",
    "\n",
    "\n"
   ]
  },
  {
   "cell_type": "code",
   "execution_count": null,
   "id": "c6b9b27a",
   "metadata": {},
   "outputs": [],
   "source": []
  }
 ],
 "metadata": {
  "kernelspec": {
   "display_name": "Python 3 (ipykernel)",
   "language": "python",
   "name": "python3"
  },
  "language_info": {
   "codemirror_mode": {
    "name": "ipython",
    "version": 3
   },
   "file_extension": ".py",
   "mimetype": "text/x-python",
   "name": "python",
   "nbconvert_exporter": "python",
   "pygments_lexer": "ipython3",
   "version": "3.9.12"
  }
 },
 "nbformat": 4,
 "nbformat_minor": 5
}
