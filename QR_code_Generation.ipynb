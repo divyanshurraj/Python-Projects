{
 "cells": [
  {
   "cell_type": "code",
   "execution_count": 4,
   "id": "e563cfc3",
   "metadata": {},
   "outputs": [],
   "source": [
    "import qrcode as qr\n",
    "img=qr.make(\"https://www.flipkart.com\")\n",
    "img.save(\"flipkart_qr.png\")"
   ]
  },
  {
   "cell_type": "markdown",
   "id": "ff9a75bb",
   "metadata": {},
   "source": [
    "# Colorful QRcode"
   ]
  },
  {
   "cell_type": "code",
   "execution_count": 1,
   "id": "5ba158f7",
   "metadata": {},
   "outputs": [],
   "source": [
    "import qrcode \n",
    "from PIL import Image\n",
    "qr=qrcode.QRCode(version=1,error_correction=qrcode.constants.ERROR_CORRECT_H,box_size=10,border=4,)\n",
    "qr.add_data(\"https://www.flipkart.com\")\n",
    "qr.make(fit=True)\n",
    "img=qr.make_image(fill_color=\"white\",back_color=\"black\")\n",
    "img.save(\"Color_Flipkart.png\")"
   ]
  },
  {
   "cell_type": "code",
   "execution_count": null,
   "id": "0b36efa7",
   "metadata": {},
   "outputs": [],
   "source": []
  },
  {
   "cell_type": "code",
   "execution_count": null,
   "id": "595cbf9d",
   "metadata": {},
   "outputs": [],
   "source": []
  }
 ],
 "metadata": {
  "kernelspec": {
   "display_name": "Python 3 (ipykernel)",
   "language": "python",
   "name": "python3"
  },
  "language_info": {
   "codemirror_mode": {
    "name": "ipython",
    "version": 3
   },
   "file_extension": ".py",
   "mimetype": "text/x-python",
   "name": "python",
   "nbconvert_exporter": "python",
   "pygments_lexer": "ipython3",
   "version": "3.9.12"
  }
 },
 "nbformat": 4,
 "nbformat_minor": 5
}
