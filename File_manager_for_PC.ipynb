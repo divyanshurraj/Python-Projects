{
 "cells": [
  {
   "cell_type": "code",
   "execution_count": 17,
   "id": "78dec920",
   "metadata": {},
   "outputs": [
    {
     "name": "stdout",
     "output_type": "stream",
     "text": [
      "enter the path : C:\\Users\\INDIAN\\Downloads\n"
     ]
    }
   ],
   "source": [
    "import os\n",
    "import shutil\n",
    "path = input(\"enter the path : \")\n",
    "files = os.listdir(path)\n",
    "for i in files:\n",
    "    filename,extension = os.path.splitext(i)\n",
    "    extension_1 = extension[1:]\n",
    "    folder_path = path+\"\\\\\"+extension_1\n",
    "    if os.path.exists(folder_path):\n",
    "        shutil.move(path+\"\\\\\"+i,path+\"\\\\\"+extension_1+\"\\\\\"+i)\n",
    "    else:\n",
    "        os.makedirs(folder_path)\n",
    "        shutil.move(path+\"\\\\\"+i,path+\"\\\\\"+extension_1+\"\\\\\"+i)"
   ]
  },
  {
   "cell_type": "code",
   "execution_count": null,
   "id": "13be437a",
   "metadata": {},
   "outputs": [],
   "source": []
  }
 ],
 "metadata": {
  "kernelspec": {
   "display_name": "Python 3 (ipykernel)",
   "language": "python",
   "name": "python3"
  },
  "language_info": {
   "codemirror_mode": {
    "name": "ipython",
    "version": 3
   },
   "file_extension": ".py",
   "mimetype": "text/x-python",
   "name": "python",
   "nbconvert_exporter": "python",
   "pygments_lexer": "ipython3",
   "version": "3.9.12"
  }
 },
 "nbformat": 4,
 "nbformat_minor": 5
}
