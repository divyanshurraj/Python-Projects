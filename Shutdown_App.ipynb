{
 "cells": [
  {
   "cell_type": "code",
   "execution_count": null,
   "id": "73ea68a8",
   "metadata": {},
   "outputs": [],
   "source": [
    "from tkinter import *\n",
    "import os\n",
    "def restart():\n",
    "    os.system(\"shutdown /r /t 1\")\n",
    "def restart_time():\n",
    "    os.system(\"shutdown /r /t 20\")\n",
    "def logout():\n",
    "    os.system(\"shutdown /r /t -1\")\n",
    "def shutdown():\n",
    "    os.system(\"shutdown /s /t 1\")\n",
    "    \n",
    "    \n",
    "st=Tk()\n",
    "st.title(\"ShutDown App\")\n",
    "st.geometry(\"500x500\")\n",
    "st.config(bg=\"Blue\")\n",
    "r_button=Button(st,text=\"Restart\",font=(\"Time New Roman\",20,\"bold\"),relief=RAISED,cursor=\"plus\",command=restart)\n",
    "r_button.place(x=150,y=60,height=50,width=200)\n",
    "\n",
    "rt_button=Button(st,text=\"Restart Time\",font=(\"Time New Roman\",20,\"bold\"),relief=RAISED,cursor=\"plus\",command=restart_time)\n",
    "rt_button.place(x=150,y=170,height=50,width=200)\n",
    "\n",
    "lg_button=Button(st,text=\"Log-Out\",font=(\"Time New Roman\",20,\"bold\"),relief=RAISED,cursor=\"plus\",command=logout)\n",
    "lg_button.place(x=150,y=270,height=50,width=200)\n",
    "\n",
    "sd_button=Button(st,text=\"Shut-Down\",font=(\"Time New Roman\",20,\"bold\"),relief=RAISED,cursor=\"plus\",command=shutdown)\n",
    "sd_button.place(x=150,y=370,height=50,width=200)\n",
    "st.mainloop()"
   ]
  },
  {
   "cell_type": "code",
   "execution_count": null,
   "id": "7e136997",
   "metadata": {},
   "outputs": [],
   "source": []
  },
  {
   "cell_type": "code",
   "execution_count": null,
   "id": "d706bbc8",
   "metadata": {},
   "outputs": [],
   "source": []
  }
 ],
 "metadata": {
  "kernelspec": {
   "display_name": "Python 3 (ipykernel)",
   "language": "python",
   "name": "python3"
  },
  "language_info": {
   "codemirror_mode": {
    "name": "ipython",
    "version": 3
   },
   "file_extension": ".py",
   "mimetype": "text/x-python",
   "name": "python",
   "nbconvert_exporter": "python",
   "pygments_lexer": "ipython3",
   "version": "3.9.12"
  }
 },
 "nbformat": 4,
 "nbformat_minor": 5
}
