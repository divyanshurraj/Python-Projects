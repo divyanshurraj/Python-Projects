{
 "cells": [
  {
   "cell_type": "code",
   "execution_count": 24,
   "id": "165bf21e",
   "metadata": {},
   "outputs": [],
   "source": [
    "#importing the libraries\n",
    "import pandas as pd\n",
    "import xgboost as xgb\n",
    "import matplotlib.pyplot as plt"
   ]
  },
  {
   "cell_type": "code",
   "execution_count": 37,
   "id": "be63675e",
   "metadata": {},
   "outputs": [
    {
     "data": {
      "text/html": [
       "<div>\n",
       "<style scoped>\n",
       "    .dataframe tbody tr th:only-of-type {\n",
       "        vertical-align: middle;\n",
       "    }\n",
       "\n",
       "    .dataframe tbody tr th {\n",
       "        vertical-align: top;\n",
       "    }\n",
       "\n",
       "    .dataframe thead th {\n",
       "        text-align: right;\n",
       "    }\n",
       "</style>\n",
       "<table border=\"1\" class=\"dataframe\">\n",
       "  <thead>\n",
       "    <tr style=\"text-align: right;\">\n",
       "      <th></th>\n",
       "      <th>Unnamed: 0</th>\n",
       "      <th>time</th>\n",
       "      <th>open</th>\n",
       "      <th>high</th>\n",
       "      <th>low</th>\n",
       "      <th>close</th>\n",
       "      <th>weekday</th>\n",
       "      <th>range_HL</th>\n",
       "      <th>range_OC</th>\n",
       "      <th>type</th>\n",
       "    </tr>\n",
       "  </thead>\n",
       "  <tbody>\n",
       "    <tr>\n",
       "      <th>0</th>\n",
       "      <td>0</td>\n",
       "      <td>2000-01-03 09:15:00+05:30</td>\n",
       "      <td>1054.8101</td>\n",
       "      <td>1054.8101</td>\n",
       "      <td>1054.8101</td>\n",
       "      <td>1054.8101</td>\n",
       "      <td>0</td>\n",
       "      <td>0.000</td>\n",
       "      <td>0.000</td>\n",
       "      <td>Tie</td>\n",
       "    </tr>\n",
       "    <tr>\n",
       "      <th>1</th>\n",
       "      <td>1</td>\n",
       "      <td>2000-01-04 09:15:00+05:30</td>\n",
       "      <td>1092.0800</td>\n",
       "      <td>1092.0800</td>\n",
       "      <td>1092.0800</td>\n",
       "      <td>1092.0800</td>\n",
       "      <td>1</td>\n",
       "      <td>0.000</td>\n",
       "      <td>0.000</td>\n",
       "      <td>Tie</td>\n",
       "    </tr>\n",
       "    <tr>\n",
       "      <th>2</th>\n",
       "      <td>2</td>\n",
       "      <td>2000-01-05 09:15:00+05:30</td>\n",
       "      <td>1055.9900</td>\n",
       "      <td>1055.9900</td>\n",
       "      <td>1055.9900</td>\n",
       "      <td>1055.9900</td>\n",
       "      <td>2</td>\n",
       "      <td>0.000</td>\n",
       "      <td>0.000</td>\n",
       "      <td>Tie</td>\n",
       "    </tr>\n",
       "    <tr>\n",
       "      <th>3</th>\n",
       "      <td>3</td>\n",
       "      <td>2000-01-06 09:15:00+05:30</td>\n",
       "      <td>1086.6700</td>\n",
       "      <td>1086.6700</td>\n",
       "      <td>1086.6700</td>\n",
       "      <td>1086.6700</td>\n",
       "      <td>3</td>\n",
       "      <td>0.000</td>\n",
       "      <td>0.000</td>\n",
       "      <td>Tie</td>\n",
       "    </tr>\n",
       "    <tr>\n",
       "      <th>4</th>\n",
       "      <td>4</td>\n",
       "      <td>2000-01-07 09:15:00+05:30</td>\n",
       "      <td>1126.9900</td>\n",
       "      <td>1126.9900</td>\n",
       "      <td>1126.9900</td>\n",
       "      <td>1126.9900</td>\n",
       "      <td>4</td>\n",
       "      <td>0.000</td>\n",
       "      <td>0.000</td>\n",
       "      <td>Tie</td>\n",
       "    </tr>\n",
       "    <tr>\n",
       "      <th>...</th>\n",
       "      <td>...</td>\n",
       "      <td>...</td>\n",
       "      <td>...</td>\n",
       "      <td>...</td>\n",
       "      <td>...</td>\n",
       "      <td>...</td>\n",
       "      <td>...</td>\n",
       "      <td>...</td>\n",
       "      <td>...</td>\n",
       "      <td>...</td>\n",
       "    </tr>\n",
       "    <tr>\n",
       "      <th>5564</th>\n",
       "      <td>5564</td>\n",
       "      <td>2022-06-13 09:15:00+05:30</td>\n",
       "      <td>33728.6480</td>\n",
       "      <td>33774.0510</td>\n",
       "      <td>33210.3520</td>\n",
       "      <td>33405.8520</td>\n",
       "      <td>0</td>\n",
       "      <td>563.699</td>\n",
       "      <td>322.796</td>\n",
       "      <td>bear</td>\n",
       "    </tr>\n",
       "    <tr>\n",
       "      <th>5565</th>\n",
       "      <td>5565</td>\n",
       "      <td>2022-06-14 09:15:00+05:30</td>\n",
       "      <td>33180.6020</td>\n",
       "      <td>33618.1480</td>\n",
       "      <td>33123.8980</td>\n",
       "      <td>33311.3520</td>\n",
       "      <td>1</td>\n",
       "      <td>494.250</td>\n",
       "      <td>130.750</td>\n",
       "      <td>bull</td>\n",
       "    </tr>\n",
       "    <tr>\n",
       "      <th>5566</th>\n",
       "      <td>5566</td>\n",
       "      <td>2022-06-15 09:15:00+05:30</td>\n",
       "      <td>33317.8010</td>\n",
       "      <td>33554.5510</td>\n",
       "      <td>33249.5510</td>\n",
       "      <td>33339.0000</td>\n",
       "      <td>2</td>\n",
       "      <td>305.000</td>\n",
       "      <td>21.199</td>\n",
       "      <td>bull</td>\n",
       "    </tr>\n",
       "    <tr>\n",
       "      <th>5567</th>\n",
       "      <td>5567</td>\n",
       "      <td>2022-06-16 09:15:00+05:30</td>\n",
       "      <td>33648.8010</td>\n",
       "      <td>33756.5000</td>\n",
       "      <td>32537.9490</td>\n",
       "      <td>32617.1000</td>\n",
       "      <td>3</td>\n",
       "      <td>1218.551</td>\n",
       "      <td>1031.701</td>\n",
       "      <td>bear</td>\n",
       "    </tr>\n",
       "    <tr>\n",
       "      <th>5568</th>\n",
       "      <td>5568</td>\n",
       "      <td>2022-06-17 09:15:00+05:30</td>\n",
       "      <td>32393.4490</td>\n",
       "      <td>32889.8010</td>\n",
       "      <td>32290.5510</td>\n",
       "      <td>32743.0510</td>\n",
       "      <td>4</td>\n",
       "      <td>599.250</td>\n",
       "      <td>349.602</td>\n",
       "      <td>bull</td>\n",
       "    </tr>\n",
       "  </tbody>\n",
       "</table>\n",
       "<p>5569 rows × 10 columns</p>\n",
       "</div>"
      ],
      "text/plain": [
       "      Unnamed: 0                       time        open        high  \\\n",
       "0              0  2000-01-03 09:15:00+05:30   1054.8101   1054.8101   \n",
       "1              1  2000-01-04 09:15:00+05:30   1092.0800   1092.0800   \n",
       "2              2  2000-01-05 09:15:00+05:30   1055.9900   1055.9900   \n",
       "3              3  2000-01-06 09:15:00+05:30   1086.6700   1086.6700   \n",
       "4              4  2000-01-07 09:15:00+05:30   1126.9900   1126.9900   \n",
       "...          ...                        ...         ...         ...   \n",
       "5564        5564  2022-06-13 09:15:00+05:30  33728.6480  33774.0510   \n",
       "5565        5565  2022-06-14 09:15:00+05:30  33180.6020  33618.1480   \n",
       "5566        5566  2022-06-15 09:15:00+05:30  33317.8010  33554.5510   \n",
       "5567        5567  2022-06-16 09:15:00+05:30  33648.8010  33756.5000   \n",
       "5568        5568  2022-06-17 09:15:00+05:30  32393.4490  32889.8010   \n",
       "\n",
       "             low       close  weekday  range_HL  range_OC  type  \n",
       "0      1054.8101   1054.8101        0     0.000     0.000   Tie  \n",
       "1      1092.0800   1092.0800        1     0.000     0.000   Tie  \n",
       "2      1055.9900   1055.9900        2     0.000     0.000   Tie  \n",
       "3      1086.6700   1086.6700        3     0.000     0.000   Tie  \n",
       "4      1126.9900   1126.9900        4     0.000     0.000   Tie  \n",
       "...          ...         ...      ...       ...       ...   ...  \n",
       "5564  33210.3520  33405.8520        0   563.699   322.796  bear  \n",
       "5565  33123.8980  33311.3520        1   494.250   130.750  bull  \n",
       "5566  33249.5510  33339.0000        2   305.000    21.199  bull  \n",
       "5567  32537.9490  32617.1000        3  1218.551  1031.701  bear  \n",
       "5568  32290.5510  32743.0510        4   599.250   349.602  bull  \n",
       "\n",
       "[5569 rows x 10 columns]"
      ]
     },
     "execution_count": 37,
     "metadata": {},
     "output_type": "execute_result"
    }
   ],
   "source": [
    "#load the data\n",
    "data = pd.read_csv(r\"C:\\Users\\INDIAN\\Downloads\\banknifty_data.csv\")\n",
    "# showing data\n",
    "data"
   ]
  },
  {
   "cell_type": "code",
   "execution_count": 46,
   "id": "091fbb96",
   "metadata": {},
   "outputs": [
    {
     "data": {
      "text/plain": [
       "<AxesSubplot:>"
      ]
     },
     "execution_count": 46,
     "metadata": {},
     "output_type": "execute_result"
    },
    {
     "data": {
      "image/png": "[encoded data removed]",
      "text/plain": [
       "<Figure size 432x288 with 1 Axes>"
      ]
     },
     "metadata": {
      "needs_background": "light"
     },
     "output_type": "display_data"
    }
   ],
   "source": [
    "# show the visually\n",
    "data['close'].plot()"
   ]
  },
  {
   "cell_type": "code",
   "execution_count": 47,
   "id": "e5b06bdb",
   "metadata": {},
   "outputs": [],
   "source": [
    "#split the data training and testing datat sets\n",
    "train_data = data.iloc[:int(.99*len(data)),:]\n",
    "test_data = data.iloc[:int(.99*len(data)):, :]"
   ]
  },
  {
   "cell_type": "code",
   "execution_count": 50,
   "id": "54bf2682",
   "metadata": {},
   "outputs": [],
   "source": [
    "#Define the features and target variable \n",
    "features = ['open']\n",
    "target = 'close'"
   ]
  },
  {
   "cell_type": "code",
   "execution_count": 51,
   "id": "ae238c34",
   "metadata": {},
   "outputs": [
    {
     "data": {
      "text/plain": [
       "XGBRegressor(base_score=None, booster=None, callbacks=None,\n",
       "             colsample_bylevel=None, colsample_bynode=None,\n",
       "             colsample_bytree=None, early_stopping_rounds=None,\n",
       "             enable_categorical=False, eval_metric=None, feature_types=None,\n",
       "             gamma=None, gpu_id=None, grow_policy=None, importance_type=None,\n",
       "             interaction_constraints=None, learning_rate=None, max_bin=None,\n",
       "             max_cat_threshold=None, max_cat_to_onehot=None,\n",
       "             max_delta_step=None, max_depth=None, max_leaves=None,\n",
       "             min_child_weight=None, missing=nan, monotone_constraints=None,\n",
       "             n_estimators=100, n_jobs=None, num_parallel_tree=None,\n",
       "             predictor=None, random_state=None, ...)"
      ]
     },
     "execution_count": 51,
     "metadata": {},
     "output_type": "execute_result"
    }
   ],
   "source": [
    "#Create and train the model \n",
    "model =xgb.XGBRegressor()\n",
    "model.fit(train_data[features],train_data[target])"
   ]
  },
  {
   "cell_type": "code",
   "execution_count": 52,
   "id": "63a7da10",
   "metadata": {},
   "outputs": [
    {
     "name": "stdout",
     "output_type": "stream",
     "text": [
      "Model Predictions:\n",
      "[ 1052.4932  1084.319   1053.6637 ... 35543.203  35495.67   35479.637 ]\n"
     ]
    }
   ],
   "source": [
    "#Make and show predictions on the test data\n",
    "predictions = model.predict(test_data[features])\n",
    "print('Model Predictions:')\n",
    "print(predictions)"
   ]
  },
  {
   "cell_type": "code",
   "execution_count": 53,
   "id": "16af9e93",
   "metadata": {},
   "outputs": [
    {
     "name": "stdout",
     "output_type": "stream",
     "text": [
      "Actual Values:\n",
      "0        1054.8101\n",
      "1        1092.0800\n",
      "2        1055.9900\n",
      "3        1086.6700\n",
      "4        1126.9900\n",
      "           ...    \n",
      "5508    36348.5510\n",
      "5509    36147.3520\n",
      "5510    35527.1020\n",
      "5511    35410.1020\n",
      "5512    35710.5000\n",
      "Name: close, Length: 5513, dtype: float64\n"
     ]
    }
   ],
   "source": [
    "#Show the actual values\n",
    "print('Actual Values:')\n",
    "print(test_data[target])"
   ]
  },
  {
   "cell_type": "code",
   "execution_count": 54,
   "id": "d9b13298",
   "metadata": {},
   "outputs": [
    {
     "name": "stdout",
     "output_type": "stream",
     "text": [
      "Accuracy:\n",
      "0.9998143929301779\n"
     ]
    }
   ],
   "source": [
    "#show the models accuracy\n",
    "accuracy = model.score(test_data[fatures],test_data[target])\n",
    "print('Accuracy:')\n",
    "print(accuracy)"
   ]
  },
  {
   "cell_type": "code",
   "execution_count": 55,
   "id": "a344d9fa",
   "metadata": {},
   "outputs": [
    {
     "data": {
      "image/png": "[encoded data removed]",
      "text/plain": [
       "<Figure size 432x288 with 1 Axes>"
      ]
     },
     "metadata": {
      "needs_background": "light"
     },
     "output_type": "display_data"
    }
   ],
   "source": [
    "#plot the predictions and the close price\n",
    "plt.plot(data['close'],label = 'open')\n",
    "plt.plot(test_data[target].index,predictions,label='Predictions')\n",
    "plt.legend()\n",
    "plt.show()"
   ]
  },
  {
   "cell_type": "code",
   "execution_count": null,
   "id": "93c3d576",
   "metadata": {},
   "outputs": [],
   "source": []
  }
 ],
 "metadata": {
  "kernelspec": {
   "display_name": "Python 3 (ipykernel)",
   "language": "python",
   "name": "python3"
  },
  "language_info": {
   "codemirror_mode": {
    "name": "ipython",
    "version": 3
   },
   "file_extension": ".py",
   "mimetype": "text/x-python",
   "name": "python",
   "nbconvert_exporter": "python",
   "pygments_lexer": "ipython3",
   "version": "3.9.12"
  }
 },
 "nbformat": 4,
 "nbformat_minor": 5
}
